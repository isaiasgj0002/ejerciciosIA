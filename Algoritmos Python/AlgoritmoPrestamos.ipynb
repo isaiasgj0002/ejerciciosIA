{
  "nbformat": 4,
  "nbformat_minor": 0,
  "metadata": {
    "colab": {
      "provenance": [],
      "authorship_tag": "ABX9TyP43UKtKAy8nm63GMgaUzTj",
      "include_colab_link": true
    },
    "kernelspec": {
      "name": "python3",
      "display_name": "Python 3"
    },
    "language_info": {
      "name": "python"
    }
  },
  "cells": [
    {
      "cell_type": "markdown",
      "metadata": {
        "id": "view-in-github",
        "colab_type": "text"
      },
      "source": [
        "<a href=\"https://colab.research.google.com/github/isaiasgj0002/ejerciciosIA/blob/main/Algoritmos%20Python/AlgoritmoPrestamos.ipynb\" target=\"_parent\"><img src=\"https://colab.research.google.com/assets/colab-badge.svg\" alt=\"Open In Colab\"/></a>"
      ]
    },
    {
      "cell_type": "markdown",
      "source": [
        "#Formato xml\n",
        "<table aling=left>\n",
        "  <tr>\n",
        "    <th>Ingresos</th>\n",
        "    <th>gastos</th>\n",
        "    <th>Capacidad de endeudamiento</th>\n",
        "    <th>Cantidad de prestamo</th>\n",
        "    <th>Cuota</th>\n",
        "    <th>Prestamo</th>\n",
        "  </tr>\n",
        "   <tr>\n",
        "    <th>2000</th>\n",
        "    <th>1000</th>\n",
        "    <th>350</th>\n",
        "    <th>800</th>\n",
        "    <th>66.7</th>\n",
        "    <th>1</th>\n",
        "  </tr>\n",
        "   <tr>\n",
        "    <th>1000</th>\n",
        "    <th>400</th>\n",
        "    <th>140</th>\n",
        "    <th>600</th>\n",
        "    <th>50</th>\n",
        "    <th>1</th>\n",
        "  </tr>\n",
        "   <tr>\n",
        "    <th>800</th>\n",
        "    <th>400</th>\n",
        "    <th>140</th>\n",
        "    <th>2000</th>\n",
        "    <th>166.7</th>\n",
        "    <th>0</th>\n",
        "  </tr>\n",
        "   <tr>\n",
        "    <th>900</th>\n",
        "    <th>500</th>\n",
        "    <th>175</th>\n",
        "    <th>3000</th>\n",
        "    <th>250</th>\n",
        "    <th>0</th>\n",
        "  </tr>\n",
        "</table>"
      ],
      "metadata": {
        "id": "P8jnI7oB9Ykb"
      }
    },
    {
      "cell_type": "code",
      "execution_count": 1,
      "metadata": {
        "id": "yc2xYM0B7j4u"
      },
      "outputs": [],
      "source": [
        "import numpy as np\n",
        "from sklearn import tree"
      ]
    },
    {
      "cell_type": "code",
      "source": [
        "atributos=[[2000,1000,350,800,66.7],[1000,400,140,600,50],[800,400,140,2000,166.7],[900,500,175,3000,250]]\n",
        "etiquetas=[1,1,0,0]\n",
        "clasificador = tree.DecisionTreeClassifier()\n",
        "train = clasificador.fit(atributos,etiquetas)"
      ],
      "metadata": {
        "id": "uDoBUASr_9fF"
      },
      "execution_count": 2,
      "outputs": []
    },
    {
      "cell_type": "code",
      "source": [
        "res = train.predict([[700,500,175,3000,250]])\n",
        "print(res)\n",
        "if res[0]==1:\n",
        "  print(\"Prestamo=aprobado\")\n",
        "else:\n",
        "  print(\"Prestamo=denegado\")"
      ],
      "metadata": {
        "colab": {
          "base_uri": "https://localhost:8080/"
        },
        "id": "tcGZL5f0Ac9x",
        "outputId": "fd7b71a9-962b-48f7-f025-f7d5cc2e4df3"
      },
      "execution_count": 5,
      "outputs": [
        {
          "output_type": "stream",
          "name": "stdout",
          "text": [
            "[0]\n",
            "Prestamo=denegado\n"
          ]
        }
      ]
    },
    {
      "cell_type": "code",
      "source": [
        "#Integrantes:\n",
        "#SALAS SOTELO, JUAN MANUEL\n",
        "#GUZMÁN JORDÁN, ISAIAS\n",
        "#QUISPE VILCA, ELIAS"
      ],
      "metadata": {
        "id": "vz1Sir17BbTg"
      },
      "execution_count": 4,
      "outputs": []
    }
  ]
}