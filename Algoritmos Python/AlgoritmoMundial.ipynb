{
  "nbformat": 4,
  "nbformat_minor": 0,
  "metadata": {
    "colab": {
      "provenance": [],
      "include_colab_link": true
    },
    "kernelspec": {
      "name": "python3",
      "display_name": "Python 3"
    },
    "language_info": {
      "name": "python"
    }
  },
  "cells": [
    {
      "cell_type": "markdown",
      "metadata": {
        "id": "view-in-github",
        "colab_type": "text"
      },
      "source": [
        "<a href=\"https://colab.research.google.com/github/isaiasgj0002/ejerciciosIA/blob/main/Algoritmos%20Python/AlgoritmoMundial.ipynb\" target=\"_parent\"><img src=\"https://colab.research.google.com/assets/colab-badge.svg\" alt=\"Open In Colab\"/></a>"
      ]
    },
    {
      "cell_type": "markdown",
      "source": [
        "<h2>Algoritmo que predice quien sera el campeon del mundial Qatar 2022</h2>\n",
        "<img src=\"https://a2.espncdn.com/combiner/i?img=%2Fi%2Fleaguelogos%2Fsoccer%2F500%2F4.png\" width=\"100\" height=\"100\">\n",
        "<p style=\"font-size: 1.5em;\">Los datos de entrenamiento son los resultados obtenidos por selecciones que alguna vez fueron campeones del mundo en mundiales pasados y tambien se entrenara el algoritmo con datos de selecciones que no ganaron, pero fueron semifinalistas, estos datos son: total de puntos, victorias, empates, derrotas, goles anotados y goles recibidos. En base a eso al algoritmo se le daran los mismos datos de las selecciones semifinalistas de Qatar 2022 y determinara si sera campeon o no</p>\n",
        "<h3>Estudiantes: Isaias Guzmán Jordán, Gianella Alexandra Ramos Ticahuanca, Juan Manuel Salas Sotelo, Edy Ronaldo Paso Quispe</h3>\n",
        "<h3>Semestre: 4</h3>\n",
        "<h3>Curso: Algoritmia para la Inteligencia Artificial</h3>"
      ],
      "metadata": {
        "id": "gTomJlubXNoH"
      }
    },
    {
      "cell_type": "markdown",
      "source": [
        "#Formato xml\n",
        "<table aling=left>\n",
        "  <tr>\n",
        "    <th>Año</th>\n",
        "    <th>Equipo</th>\n",
        "    <th>Partidos ganados</th>\n",
        "    <th>Partidos empatados</th>\n",
        "    <th>Partidos perdidos</th>\n",
        "    <th>Goles anotados</th>\n",
        "    <th>Goles recibidos</th>\n",
        "    <th>Puntos</th>\n",
        "    <th>campeon?</th>\n",
        "  </tr>\n",
        "   <tr>\n",
        "    <th>2002</th>\n",
        "    <th>Brasil</th>\n",
        "    <th>7</th>\n",
        "    <th>0</th>\n",
        "    <th>0</th>\n",
        "    <th>18</th>\n",
        "    <th>4</th>\n",
        "    <th>21</th>\n",
        "    <th>1</th>\n",
        "  </tr>\n",
        "   <tr>\n",
        "    <th>2010</th>\n",
        "    <th>España</th>\n",
        "    <th>6</th>\n",
        "    <th>0</th>\n",
        "    <th>1</th>\n",
        "    <th>8</th>\n",
        "    <th>2</th>\n",
        "    <th>18</th>\n",
        "    <th>1</th>\n",
        "  </tr>\n",
        "   <tr>\n",
        "    <th>2018</th>\n",
        "    <th>Croacia</th>\n",
        "    <th>4</th>\n",
        "    <th>2</th>\n",
        "    <th>1</th>\n",
        "    <th>14</th>\n",
        "    <th>9</th>\n",
        "    <th>14</th>\n",
        "    <th>0</th>\n",
        "  </tr>\n",
        "   <tr>\n",
        "    <th>2006</th>\n",
        "    <th>Portugal</th>\n",
        "    <th>4</th>\n",
        "    <th>1</th>\n",
        "    <th>2</th>\n",
        "    <th>7</th>\n",
        "    <th>5</th>\n",
        "    <th>13</th>\n",
        "    <th>0</th>\n",
        "  </tr>\n",
        "</table>"
      ],
      "metadata": {
        "id": "0A-e20O1MbxH"
      }
    },
    {
      "cell_type": "code",
      "execution_count": 2,
      "metadata": {
        "id": "_iTBeJgYMaqs"
      },
      "outputs": [],
      "source": [
        "import numpy as np\n",
        "from sklearn import tree"
      ]
    },
    {
      "cell_type": "code",
      "source": [
        "atributos =[[7,0,0,18,4,21],[6,0,1,8,2,18],[4,2,1,14,9,14],[4,1,2,7,5,13]]\n",
        "etiquetas =[1,1,0,0]\n",
        "clasificador = tree.DecisionTreeClassifier()\n",
        "print(\"Entrenando el modelo...\")\n",
        "train = clasificador.fit(atributos, etiquetas)\n",
        "print(\"Modelo entrenado\")"
      ],
      "metadata": {
        "id": "WyU2_9jOVFwM",
        "colab": {
          "base_uri": "https://localhost:8080/"
        },
        "outputId": "2a5515aa-696e-467a-ed6d-eac9df5c6872"
      },
      "execution_count": 14,
      "outputs": [
        {
          "output_type": "stream",
          "name": "stdout",
          "text": [
            "Entrenando el modelo...\n",
            "Modelo entrenado\n"
          ]
        }
      ]
    },
    {
      "cell_type": "code",
      "source": [
        "pais = \"Francia\"\n",
        "res=train.predict([[4,0,1,9,3,15]])\n",
        "print(res)\n",
        "if res==[1]:\n",
        "  print(pais)\n",
        "  print(\"El pais ganara el mundial\")\n",
        "else:\n",
        "  print(pais)\n",
        "  print(\"El pais no ganara el mundial\")"
      ],
      "metadata": {
        "colab": {
          "base_uri": "https://localhost:8080/"
        },
        "id": "QaN8330snTd-",
        "outputId": "851e39eb-b7b6-41fc-b7d3-a13235a037bf"
      },
      "execution_count": 15,
      "outputs": [
        {
          "output_type": "stream",
          "name": "stdout",
          "text": [
            "[1]\n",
            "Francia\n",
            "El pais ganara el mundial\n"
          ]
        }
      ]
    }
  ]
}