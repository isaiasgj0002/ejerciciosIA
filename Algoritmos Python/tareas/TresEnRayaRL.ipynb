{
  "nbformat": 4,
  "nbformat_minor": 0,
  "metadata": {
    "colab": {
      "provenance": [],
      "authorship_tag": "ABX9TyNxaUCyV8ZN1xRBe8BPxDsY",
      "include_colab_link": true
    },
    "kernelspec": {
      "name": "python3",
      "display_name": "Python 3"
    },
    "language_info": {
      "name": "python"
    }
  },
  "cells": [
    {
      "cell_type": "markdown",
      "metadata": {
        "id": "view-in-github",
        "colab_type": "text"
      },
      "source": [
        "<a href=\"https://colab.research.google.com/github/isaiasgj0002/ejerciciosIA/blob/main/Algoritmos%20Python/tareas/TresEnRayaRL.ipynb\" target=\"_parent\"><img src=\"https://colab.research.google.com/assets/colab-badge.svg\" alt=\"Open In Colab\"/></a>"
      ]
    },
    {
      "cell_type": "code",
      "execution_count": null,
      "metadata": {
        "id": "_pZMGHcqzYOa"
      },
      "outputs": [],
      "source": [
        "import numpy as np\n",
        "import pickle"
      ]
    },
    {
      "cell_type": "code",
      "source": [
        "tablero_filas = 3\n",
        "tablero_columnas = 3"
      ],
      "metadata": {
        "id": "5o2HEtnczcop"
      },
      "execution_count": null,
      "outputs": []
    },
    {
      "cell_type": "code",
      "source": [
        "class Estado:\n",
        "    def __init__(self, p1, p2):\n",
        "        self.tablero = np.zeros((tablero_filas, tablero_columnas))\n",
        "        self.p1 = p1\n",
        "        self.p2 = p2\n",
        "        self.isEnd = False\n",
        "        self.tableroHash = None\n",
        "        self.simboloJugador = 1\n",
        "    \n",
        "    def getHash(self):\n",
        "        self.tableroHash = str(self.tablero.reshape(tablero_columnas*tablero_filas))\n",
        "        return self.tableroHash\n",
        "    \n",
        "    def ganador(self):\n",
        "        for i in range(tablero_filas):\n",
        "            if sum(self.tablero[i, :]) == 3:\n",
        "                self.isEnd = True\n",
        "                return 1\n",
        "            if sum(self.tablero[i, :]) == -3:\n",
        "                self.isEnd = True\n",
        "                return -1\n",
        "        for i in range(tablero_columnas):\n",
        "            if sum(self.tablero[:, i]) == 3:\n",
        "                self.isEnd = True\n",
        "                return 1\n",
        "            if sum(self.tablero[:, i]) == -3:\n",
        "                self.isEnd = True\n",
        "                return -1\n",
        "        diag_sum1 = sum([self.tablero[i, i] for i in range(tablero_columnas)])\n",
        "        diag_sum2 = sum([self.tablero[i, tablero_columnas-i-1] for i in range(tablero_columnas)])\n",
        "        diag_sum = max(diag_sum1, diag_sum2)\n",
        "        if diag_sum == 3:\n",
        "            self.isEnd = True\n",
        "            return 1\n",
        "        if diag_sum == -3:\n",
        "            self.isEnd = True\n",
        "            return -1\n",
        "        if len(self.posicionesdisponibles()) == 0:\n",
        "            self.isEnd = True\n",
        "            return 0\n",
        "        self.isEnd = False\n",
        "        return None\n",
        "    \n",
        "    def posicionesdisponibles(self):\n",
        "        posiciones = []\n",
        "        for i in range(tablero_filas):\n",
        "            for j in range(tablero_columnas):\n",
        "                if self.tablero[i, j] == 0:\n",
        "                    posiciones.append((i, j))\n",
        "        return posiciones\n",
        "    \n",
        "    def updateEstado(self, position):\n",
        "        self.tablero[position] = self.simboloJugador\n",
        "        self.simboloJugador = -1 if self.simboloJugador == 1 else 1\n",
        "    \n",
        "    def darRecompensa(self):\n",
        "        result = self.ganador()\n",
        "        if result == 1:\n",
        "            self.p1.feedRecompensa(1)\n",
        "            self.p2.feedRecompensa(0)\n",
        "        elif result == -1:\n",
        "            self.p1.feedRecompensa(0)\n",
        "            self.p2.feedRecompensa(1)\n",
        "        else:\n",
        "            self.p1.feedRecompensa(0.1)\n",
        "            self.p2.feedRecompensa(0.5)\n",
        "    def reiniciar(self):\n",
        "        self.tablero = np.zeros((tablero_filas, tablero_columnas))\n",
        "        self.tableroHash = None\n",
        "        self.isEnd = False\n",
        "        self.simboloJugador = 1\n",
        "    \n",
        "    def jugar(self, rounds=100):\n",
        "        for i in range(rounds):\n",
        "            if i%1000 == 0:\n",
        "                print(\"Rounds {}\".format(i))\n",
        "            while not self.isEnd:\n",
        "                posiciones = self.posicionesdisponibles()\n",
        "                p1_accion = self.p1.elegiraccion(posiciones, self.tablero, self.simboloJugador)\n",
        "                self.updateEstado(p1_accion)\n",
        "                tablero_hash = self.getHash()\n",
        "                self.p1.addEstado(tablero_hash)\n",
        "\n",
        "                gano = self.ganador()\n",
        "                if gano is not None:\n",
        "                    self.darRecompensa()\n",
        "                    self.p1.reiniciar()\n",
        "                    self.p2.reiniciar()\n",
        "                    self.reiniciar()\n",
        "                    break\n",
        "\n",
        "                else:\n",
        "                    posiciones = self.posicionesdisponibles()\n",
        "                    p2_accion = self.p2.elegiraccion(posiciones, self.tablero, self.simboloJugador)\n",
        "                    self.updateEstado(p2_accion)\n",
        "                    tablero_hash = self.getHash()\n",
        "                    self.p2.addEstado(tablero_hash)\n",
        "                    \n",
        "                    gano = self.ganador()\n",
        "                    if gano is not None:\n",
        "                        self.darRecompensa()\n",
        "                        self.p1.reiniciar()\n",
        "                        self.p2.reiniciar()\n",
        "                        self.reiniciar()\n",
        "                        break\n",
        "    \n",
        "    def jugar2(self):\n",
        "        while not self.isEnd:\n",
        "            posiciones = self.posicionesdisponibles()\n",
        "            p1_accion = self.p1.elegiraccion(posiciones, self.tablero, self.simboloJugador)\n",
        "            self.updateEstado(p1_accion)\n",
        "            self.mostrartablero()\n",
        "            gano = self.ganador()\n",
        "            if gano is not None:\n",
        "                if gano == 1:\n",
        "                    print(self.p1.nombre, \"gano!\")\n",
        "                else:\n",
        "                    print(\"tie!\")\n",
        "                self.reiniciar()\n",
        "                break\n",
        "\n",
        "            else:\n",
        "                posiciones = self.posicionesdisponibles()\n",
        "                p2_accion = self.p2.elegiraccion(posiciones)\n",
        "\n",
        "                self.updateEstado(p2_accion)\n",
        "                self.mostrartablero()\n",
        "                gano = self.ganador()\n",
        "                if gano is not None:\n",
        "                    if gano == -1:\n",
        "                        print(self.p2.nombre, \"gano!\")\n",
        "                    else:\n",
        "                        print(\"ganaste!\")\n",
        "                    self.reiniciar()\n",
        "                    break\n",
        "\n",
        "    def mostrartablero(self):\n",
        "        for i in range(0, tablero_filas):\n",
        "            print('-------------')\n",
        "            out = '| '\n",
        "            for j in range(0, tablero_columnas):\n",
        "                if self.tablero[i, j] == 1:\n",
        "                    token = 'x'\n",
        "                if self.tablero[i, j] == -1:\n",
        "                    token = 'o'\n",
        "                if self.tablero[i, j] == 0:\n",
        "                    token = ' '\n",
        "                out += token + ' | '\n",
        "            print(out)\n",
        "        print('-------------')    "
      ],
      "metadata": {
        "id": "Mc55TJFqzgSx"
      },
      "execution_count": null,
      "outputs": []
    },
    {
      "cell_type": "code",
      "source": [
        "class jugador:\n",
        "    def __init__(self, nombre, exp_rate=0.3):\n",
        "        self.nombre = nombre\n",
        "        self.Estados = []\n",
        "        self.lr = 0.2\n",
        "        self.exp_rate = exp_rate\n",
        "        self.decay_gamma = 0.9\n",
        "        self.Estados_value = {}\n",
        "    \n",
        "    def getHash(self, tablero):\n",
        "        tableroHash = str(tablero.reshape(tablero_columnas*tablero_filas))\n",
        "        return tableroHash\n",
        "    \n",
        "    def elegiraccion(self, posiciones, current_tablero, simbolo):\n",
        "        if np.random.uniform(0, 1) <= self.exp_rate:\n",
        "            idx = np.random.choice(len(posiciones))\n",
        "            accion = posiciones[idx]\n",
        "        else:\n",
        "            value_max = -999\n",
        "            for p in posiciones:\n",
        "                next_tablero = current_tablero.copy()\n",
        "                next_tablero[p] = simbolo\n",
        "                next_tableroHash = self.getHash(next_tablero)\n",
        "                value = 0 if self.Estados_value.get(next_tableroHash) is None else self.Estados_value.get(next_tableroHash)\n",
        "                if value >= value_max:\n",
        "                    value_max = value\n",
        "                    accion = p\n",
        "        return accion\n",
        "    \n",
        "    def addEstado(self, Estado):\n",
        "        self.Estados.append(Estado)\n",
        "    \n",
        "    def feedRecompensa(self, Recompensa):\n",
        "        for st in reversed(self.Estados):\n",
        "            if self.Estados_value.get(st) is None:\n",
        "                self.Estados_value[st] = 0\n",
        "            self.Estados_value[st] += self.lr*(self.decay_gamma*Recompensa - self.Estados_value[st])\n",
        "            Recompensa = self.Estados_value[st]\n",
        "            \n",
        "    def reiniciar(self):\n",
        "        self.Estados = []\n",
        "        \n",
        "    def guardarreglas(self):\n",
        "        fw = open('reglas_' + str(self.nombre), 'wb')\n",
        "        pickle.dump(self.Estados_value, fw)\n",
        "        fw.close()\n",
        "\n",
        "    def cargarreglas(self, file):\n",
        "        fr = open(file,'rb')\n",
        "        self.Estados_value = pickle.load(fr)\n",
        "        fr.close()"
      ],
      "metadata": {
        "id": "kRXL8h8TznJP"
      },
      "execution_count": null,
      "outputs": []
    },
    {
      "cell_type": "code",
      "source": [
        "class Humanojugador:\n",
        "    def __init__(self, nombre):\n",
        "        self.nombre = nombre \n",
        "    def elegiraccion(self, posiciones):\n",
        "        while True:\n",
        "            row = int(input(\"escribe la fila:\"))\n",
        "            col = int(input(\"escribe la columna:\"))\n",
        "            accion = (row, col)\n",
        "            if accion in posiciones:\n",
        "                return accion\n",
        "    def addEstado(self, Estado):\n",
        "        pass\n",
        "    def feedRecompensa(self, Recompensa):\n",
        "        pass\n",
        "    def reiniciar(self):\n",
        "        pass"
      ],
      "metadata": {
        "id": "fL1tLoW6ztJL"
      },
      "execution_count": null,
      "outputs": []
    },
    {
      "cell_type": "code",
      "source": [
        "p1 = jugador(\"p1\")\n",
        "p2 = jugador(\"p2\")\n",
        "\n",
        "st = Estado(p1, p2)\n",
        "print(\"entrenando el modelo...\")\n",
        "st.jugar(50000)"
      ],
      "metadata": {
        "colab": {
          "base_uri": "https://localhost:8080/"
        },
        "id": "_iN6c7xUzw4z",
        "outputId": "f8468f05-d255-4a28-87ca-10112fb4daed"
      },
      "execution_count": null,
      "outputs": [
        {
          "output_type": "stream",
          "name": "stdout",
          "text": [
            "training...\n",
            "Rounds 0\n",
            "Rounds 1000\n",
            "Rounds 2000\n",
            "Rounds 3000\n",
            "Rounds 4000\n",
            "Rounds 5000\n",
            "Rounds 6000\n",
            "Rounds 7000\n",
            "Rounds 8000\n",
            "Rounds 9000\n",
            "Rounds 10000\n",
            "Rounds 11000\n",
            "Rounds 12000\n",
            "Rounds 13000\n",
            "Rounds 14000\n",
            "Rounds 15000\n",
            "Rounds 16000\n",
            "Rounds 17000\n",
            "Rounds 18000\n",
            "Rounds 19000\n",
            "Rounds 20000\n",
            "Rounds 21000\n",
            "Rounds 22000\n",
            "Rounds 23000\n",
            "Rounds 24000\n",
            "Rounds 25000\n",
            "Rounds 26000\n",
            "Rounds 27000\n",
            "Rounds 28000\n",
            "Rounds 29000\n",
            "Rounds 30000\n",
            "Rounds 31000\n",
            "Rounds 32000\n",
            "Rounds 33000\n",
            "Rounds 34000\n",
            "Rounds 35000\n",
            "Rounds 36000\n",
            "Rounds 37000\n",
            "Rounds 38000\n",
            "Rounds 39000\n",
            "Rounds 40000\n",
            "Rounds 41000\n",
            "Rounds 42000\n",
            "Rounds 43000\n",
            "Rounds 44000\n",
            "Rounds 45000\n",
            "Rounds 46000\n",
            "Rounds 47000\n",
            "Rounds 48000\n",
            "Rounds 49000\n"
          ]
        }
      ]
    },
    {
      "cell_type": "code",
      "source": [
        "p1.guardarreglas()\n",
        "p2.guardarreglas()"
      ],
      "metadata": {
        "id": "OGqpSrNR1D3T"
      },
      "execution_count": null,
      "outputs": []
    },
    {
      "cell_type": "code",
      "source": [
        "p1.cargarreglas(\"reglas_p1\")"
      ],
      "metadata": {
        "id": "rTAKbKIO1GOa"
      },
      "execution_count": null,
      "outputs": []
    },
    {
      "cell_type": "code",
      "source": [
        "p1 = jugador(\"pc\", exp_rate=0)\n",
        "p1.cargarreglas(\"reglas_p1\")\n",
        "p2 = Humanojugador(\"Humano\")\n",
        "st = Estado(p1, p2)\n",
        "st.jugar2()"
      ],
      "metadata": {
        "colab": {
          "base_uri": "https://localhost:8080/"
        },
        "id": "pQ-9UKkG1JE8",
        "outputId": "421ea5a4-3f49-4356-ac62-ab4e5717374b"
      },
      "execution_count": null,
      "outputs": [
        {
          "output_type": "stream",
          "name": "stdout",
          "text": [
            "-------------\n",
            "|   |   |   | \n",
            "-------------\n",
            "|   |   |   | \n",
            "-------------\n",
            "|   | x |   | \n",
            "-------------\n",
            "escribe la fila:2\n",
            "escribe la columna:0\n",
            "-------------\n",
            "|   |   |   | \n",
            "-------------\n",
            "|   |   |   | \n",
            "-------------\n",
            "| o | x |   | \n",
            "-------------\n",
            "-------------\n",
            "|   |   |   | \n",
            "-------------\n",
            "|   | x |   | \n",
            "-------------\n",
            "| o | x |   | \n",
            "-------------\n",
            "escribe la fila:2\n",
            "escribe la columna:2\n",
            "-------------\n",
            "|   |   |   | \n",
            "-------------\n",
            "|   | x |   | \n",
            "-------------\n",
            "| o | x | o | \n",
            "-------------\n",
            "-------------\n",
            "|   | x |   | \n",
            "-------------\n",
            "|   | x |   | \n",
            "-------------\n",
            "| o | x | o | \n",
            "-------------\n",
            "pc gano!\n"
          ]
        }
      ]
    },
    {
      "cell_type": "code",
      "source": [
        "p1 = jugador(\"pc\", exp_rate=0)\n",
        "p1.cargarreglas(\"reglas_p1\")\n",
        "p2 = Humanojugador(\"Humano\")\n",
        "st = Estado(p1, p2)\n",
        "st.jugar2()"
      ],
      "metadata": {
        "colab": {
          "base_uri": "https://localhost:8080/"
        },
        "id": "WvumN0wm10f8",
        "outputId": "c84d21e5-7b07-4952-cb7d-21b5590bdde0"
      },
      "execution_count": null,
      "outputs": [
        {
          "output_type": "stream",
          "name": "stdout",
          "text": [
            "-------------\n",
            "|   |   |   | \n",
            "-------------\n",
            "|   |   |   | \n",
            "-------------\n",
            "|   | x |   | \n",
            "-------------\n",
            "escribe la fila:0\n",
            "escribe la columna:0\n",
            "-------------\n",
            "| o |   |   | \n",
            "-------------\n",
            "|   |   |   | \n",
            "-------------\n",
            "|   | x |   | \n",
            "-------------\n",
            "-------------\n",
            "| o |   |   | \n",
            "-------------\n",
            "|   |   |   | \n",
            "-------------\n",
            "| x | x |   | \n",
            "-------------\n",
            "escribe la fila:1\n",
            "escribe la columna:2\n",
            "-------------\n",
            "| o |   |   | \n",
            "-------------\n",
            "|   |   | o | \n",
            "-------------\n",
            "| x | x |   | \n",
            "-------------\n",
            "-------------\n",
            "| o |   |   | \n",
            "-------------\n",
            "|   |   | o | \n",
            "-------------\n",
            "| x | x | x | \n",
            "-------------\n",
            "pc gano!\n"
          ]
        }
      ]
    },
    {
      "cell_type": "code",
      "source": [
        "#ISAIAS GUZMÁN JORDÁN\n",
        "#SENATI 4TO SEMESTRE\n",
        "#ALGORITMIA PARA LA INTELIGENCIA ARTIFICIAL"
      ],
      "metadata": {
        "id": "8-uQ0trs1el-"
      },
      "execution_count": null,
      "outputs": []
    }
  ]
}