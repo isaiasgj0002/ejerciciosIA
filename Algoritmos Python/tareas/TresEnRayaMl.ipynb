{
  "nbformat": 4,
  "nbformat_minor": 0,
  "metadata": {
    "colab": {
      "provenance": [],
      "authorship_tag": "ABX9TyNdLo4ablcO+fEV2bnh6R9N",
      "include_colab_link": true
    },
    "kernelspec": {
      "name": "python3",
      "display_name": "Python 3"
    },
    "language_info": {
      "name": "python"
    }
  },
  "cells": [
    {
      "cell_type": "markdown",
      "metadata": {
        "id": "view-in-github",
        "colab_type": "text"
      },
      "source": [
        "<a href=\"https://colab.research.google.com/github/isaiasgj0002/ejerciciosIA/blob/main/Algoritmos%20Python/tareas/TresEnRayaMl.ipynb\" target=\"_parent\"><img src=\"https://colab.research.google.com/assets/colab-badge.svg\" alt=\"Open In Colab\"/></a>"
      ]
    },
    {
      "cell_type": "markdown",
      "source": [
        "**Algoritmo que determina el ganador de una partida de tres en raya** <br>\n",
        "<img src=\"https://upload.wikimedia.org/wikipedia/commons/thumb/3/32/Tic_tac_toe.svg/1200px-Tic_tac_toe.svg.png\" width=\"100\"><br>\n",
        "Este algoritmo sera entrenado con tres posibles resultados de una partida de 3 en raya, victoria de X, victoria de O y empate, luego se le daran los mismos datos y debe determinar si gano X, gano O o empataron\n",
        "\n",
        "Estudiante: Isaias Guzmán Jordán <br>\n",
        "Semestre: 4 <br>\n",
        "Curso: Algoritmia para la Inteligencia Artificial"
      ],
      "metadata": {
        "id": "Vjz7CwmSpuBV"
      }
    },
    {
      "cell_type": "markdown",
      "source": [
        "#Formato xml\n",
        "<table aling=left>\n",
        "  <tr>\n",
        "    <th>Simbolo</th>\n",
        "    <th>Numero</th>\n",
        "    <th>Resultado</th>\n",
        "  </tr>\n",
        "   <tr>\n",
        "    <th>X</th>\n",
        "    <th>1</th>\n",
        "    <th>gano x = 1</th>\n",
        "  </tr>\n",
        "    <tr>\n",
        "    <th>O</th>\n",
        "    <th>2</th>\n",
        "    <th>gano O = 2</th>\n",
        "  </tr>\n",
        "    <tr>\n",
        "    <th></th>\n",
        "    <th></th>\n",
        "    <th>Empate = 3</th>\n",
        "  </tr>\n",
        "</table>"
      ],
      "metadata": {
        "id": "wgVhMXwDtU7q"
      }
    },
    {
      "cell_type": "code",
      "execution_count": 1,
      "metadata": {
        "id": "CXI5ui6Ypsp_"
      },
      "outputs": [],
      "source": [
        "import numpy as np\n",
        "from sklearn import tree"
      ]
    },
    {
      "cell_type": "code",
      "source": [
        "atributos=[[1,1,1],[2,2,2],[2,1,2]]\n",
        "etiquetas=[1,2,3]\n",
        "clasificador = tree.DecisionTreeClassifier()\n",
        "train = clasificador.fit(atributos,etiquetas)"
      ],
      "metadata": {
        "id": "8BJEn0IprhIE"
      },
      "execution_count": 10,
      "outputs": []
    },
    {
      "cell_type": "code",
      "source": [
        "res = train.predict([[2,1,1]])\n",
        "print(res)\n",
        "if res[0]==1:\n",
        "  print(\"Gano X\")\n",
        "elif res[0]==2:\n",
        "  print(\"Gano O\")\n",
        "else:\n",
        "  print(\"Empataron\")"
      ],
      "metadata": {
        "colab": {
          "base_uri": "https://localhost:8080/"
        },
        "id": "iwlji7dzs8hO",
        "outputId": "c8e59915-295d-48ba-bd2a-428d9fd39b6f"
      },
      "execution_count": 26,
      "outputs": [
        {
          "output_type": "stream",
          "name": "stdout",
          "text": [
            "[3]\n",
            "Empataron\n"
          ]
        }
      ]
    }
  ]
}