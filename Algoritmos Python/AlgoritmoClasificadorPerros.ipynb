{
  "nbformat": 4,
  "nbformat_minor": 0,
  "metadata": {
    "colab": {
      "provenance": [],
      "authorship_tag": "ABX9TyN77zVNPjGpCSlomd03O12E",
      "include_colab_link": true
    },
    "kernelspec": {
      "name": "python3",
      "display_name": "Python 3"
    },
    "language_info": {
      "name": "python"
    }
  },
  "cells": [
    {
      "cell_type": "markdown",
      "metadata": {
        "id": "view-in-github",
        "colab_type": "text"
      },
      "source": [
        "<a href=\"https://colab.research.google.com/github/isaiasgj0002/ejerciciosIA/blob/main/AlgoritmoClasificadorPerros.ipynb\" target=\"_parent\"><img src=\"https://colab.research.google.com/assets/colab-badge.svg\" alt=\"Open In Colab\"/></a>"
      ]
    },
    {
      "cell_type": "markdown",
      "source": [
        "#Formato xml\n",
        "<table aling=left>\n",
        "\n",
        "  <tr>\n",
        "    <th>Peso</th>\n",
        "    <th>¿Ladra?</th>\n",
        "    <th>Etiqueta</th>\n",
        "  </tr>\n",
        "  <tr>\n",
        "    <th>3 Kg</th>\n",
        "    <th>Ladra=0</th>\n",
        "    <th>Perro=0</th>\n",
        "  </tr>\n",
        "  <tr>\n",
        "    <th>5 Kg</th>\n",
        "    <th>Ladra=0</th>\n",
        "    <th>Perro=0</th>\n",
        "  </tr>\n",
        "  <tr>\n",
        "    <th>10 Kg</th>\n",
        "    <th>Ladra=1</th>\n",
        "    <th>Perro=1</th>\n",
        "  </tr>\n",
        "  <tr>\n",
        "    <th>12 Kg</th>\n",
        "    <th>Ladra=1</th>\n",
        "    <th>Perro=1</th>\n",
        "  </tr>\n",
        "</table>\n",
        "\n",
        "\n",
        "\n"
      ],
      "metadata": {
        "id": "YstnxtrmZPjD"
      }
    },
    {
      "cell_type": "code",
      "source": [
        "import numpy as np\n",
        "from sklearn import tree"
      ],
      "metadata": {
        "id": "hFYWCK1zaRLJ"
      },
      "execution_count": 1,
      "outputs": []
    },
    {
      "cell_type": "code",
      "source": [
        "atributos=[[3,0],[5,0],[10,1],[12,1]]\n",
        "etiquetas=[0,0,1,1]\n",
        "clasificador = tree.DecisionTreeClassifier()\n",
        "train = clasificador.fit(atributos,etiquetas)\n",
        "res = train.predict([[3,0]])\n",
        "print(res)\n",
        "if res[0]==1:\n",
        "  print(\"Es un perro\")\n",
        "else:\n",
        "  print(\"No es un perro\")"
      ],
      "metadata": {
        "colab": {
          "base_uri": "https://localhost:8080/"
        },
        "id": "NBL-R8Z2bekF",
        "outputId": "d666bc2f-0107-4322-9881-a4dc1e160dcd"
      },
      "execution_count": 9,
      "outputs": [
        {
          "output_type": "stream",
          "name": "stdout",
          "text": [
            "[0]\n",
            "No es un perro\n"
          ]
        }
      ]
    }
  ]
}
