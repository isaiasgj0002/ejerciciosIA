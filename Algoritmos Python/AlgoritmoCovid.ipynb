{
  "nbformat": 4,
  "nbformat_minor": 0,
  "metadata": {
    "colab": {
      "provenance": [],
      "authorship_tag": "ABX9TyM5OQKceQ8rkbuLRq7GxO68",
      "include_colab_link": true
    },
    "kernelspec": {
      "name": "python3",
      "display_name": "Python 3"
    },
    "language_info": {
      "name": "python"
    }
  },
  "cells": [
    {
      "cell_type": "markdown",
      "metadata": {
        "id": "view-in-github",
        "colab_type": "text"
      },
      "source": [
        "<a href=\"https://colab.research.google.com/github/isaiasgj0002/ejerciciosIA/blob/main/AlgoritmoCovid.ipynb\" target=\"_parent\"><img src=\"https://colab.research.google.com/assets/colab-badge.svg\" alt=\"Open In Colab\"/></a>"
      ]
    },
    {
      "cell_type": "markdown",
      "source": [
        "#Formato xml\n",
        "<table aling=left>\n",
        "  <tr>\n",
        "    <th>Fiebre</th>\n",
        "    <th>Tos</th>\n",
        "    <th>Dificultad para respirar</th>\n",
        "    <th>Perdida de gusto y olfato</th>\n",
        "    <th>covid</th>\n",
        "  </tr>\n",
        "   <tr>\n",
        "    <th>0</th>\n",
        "    <th>0</th>\n",
        "    <th>1</th>\n",
        "    <th>1</th>\n",
        "    <th>1</th>\n",
        "  </tr>\n",
        "   <tr>\n",
        "    <th>1</th>\n",
        "    <th>0</th>\n",
        "    <th>1</th>\n",
        "    <th>0</th>\n",
        "    <th>0</th>\n",
        "  </tr>\n",
        "   <tr>\n",
        "    <th>0</th>\n",
        "    <th>0</th>\n",
        "    <th>0</th>\n",
        "    <th>1</th>\n",
        "    <th>1</th>\n",
        "  </tr>\n",
        "   <tr>\n",
        "    <th>0</th>\n",
        "    <th>0</th>\n",
        "    <th>0</th>\n",
        "    <th>0</th>\n",
        "    <th>0</th>\n",
        "  </tr>\n",
        "</table>"
      ],
      "metadata": {
        "id": "dYMQEOa2gmdE"
      }
    },
    {
      "cell_type": "code",
      "execution_count": 1,
      "metadata": {
        "id": "jPtqlX8sgUYv"
      },
      "outputs": [],
      "source": [
        "import numpy as np\n",
        "from sklearn import tree"
      ]
    },
    {
      "cell_type": "code",
      "source": [
        "atributos=[[0,0,1,1],[1,0,1,0],[0,0,1,1],[0,0,0,0]]\n",
        "etiquetas=[1,0,1,0]\n",
        "clasificador = tree.DecisionTreeClassifier()\n",
        "train = clasificador.fit(atributos,etiquetas)"
      ],
      "metadata": {
        "id": "4Zeewdj7iTrj"
      },
      "execution_count": 29,
      "outputs": []
    },
    {
      "cell_type": "code",
      "source": [
        "res = train.predict([[1,1,0,1]])\n",
        "print(res)\n",
        "if res[0]==1:\n",
        "  print(\"Covid=positivo\")\n",
        "else:\n",
        "  print(\"Covid=negativo\")"
      ],
      "metadata": {
        "colab": {
          "base_uri": "https://localhost:8080/"
        },
        "id": "cp6WBkc_nnbu",
        "outputId": "845dbeb8-17ac-4b19-9856-c1b525c9cfd4"
      },
      "execution_count": 31,
      "outputs": [
        {
          "output_type": "stream",
          "name": "stdout",
          "text": [
            "[1]\n",
            "Covid=positivo\n"
          ]
        }
      ]
    },
    {
      "cell_type": "code",
      "source": [
        "#Integrantes:\n",
        "#SALAS SOTELO, JUAN MANUEL\n",
        "#GUZMÁN JORDÁN, ISAIAS\n",
        "#QUISPE VILCA, ELIAS"
      ],
      "metadata": {
        "id": "zMMdAbNIokKg"
      },
      "execution_count": 32,
      "outputs": []
    }
  ]
}
