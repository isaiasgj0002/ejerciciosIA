{
  "nbformat": 4,
  "nbformat_minor": 0,
  "metadata": {
    "colab": {
      "provenance": [],
      "authorship_tag": "ABX9TyPfVrqbwILsJeX7lLTSoJFo",
      "include_colab_link": true
    },
    "kernelspec": {
      "name": "python3",
      "display_name": "Python 3"
    },
    "language_info": {
      "name": "python"
    }
  },
  "cells": [
    {
      "cell_type": "markdown",
      "metadata": {
        "id": "view-in-github",
        "colab_type": "text"
      },
      "source": [
        "<a href=\"https://colab.research.google.com/github/isaiasgj0002/ejerciciosIA/blob/main/RegresionLinealSimpleEjemplo.ipynb\" target=\"_parent\"><img src=\"https://colab.research.google.com/assets/colab-badge.svg\" alt=\"Open In Colab\"/></a>"
      ]
    },
    {
      "cell_type": "code",
      "execution_count": 13,
      "metadata": {
        "id": "lXQx_YVpp3vG"
      },
      "outputs": [],
      "source": [
        "import numpy as np\n",
        "from sklearn import datasets, linear_model\n",
        "import matplotlib.pyplot as plt\n",
        "from importlib import reload\n",
        "plt=reload(plt)"
      ]
    },
    {
      "cell_type": "code",
      "source": [
        "datos = datasets.load_boston()\n",
        "print(datos)\n",
        "print(\"Informacion en el dataset: \")\n",
        "print(datos.keys())\n",
        "print(\"Caracteristicas del dataset\")\n",
        "print(datos.DESCR)\n",
        "print(\"Cantidad de datos: \")\n",
        "print(datos.data.shape)\n",
        "print(\"Nombre columnas: \")\n",
        "print(datos.feature_names)"
      ],
      "metadata": {
        "id": "4eBZFQ03qYi2"
      },
      "execution_count": null,
      "outputs": []
    },
    {
      "cell_type": "code",
      "source": [
        "x = datos.data[:, np.newaxis, 5]\n",
        "y = datos.target"
      ],
      "metadata": {
        "id": "doqInbqMsW_6"
      },
      "execution_count": 3,
      "outputs": []
    },
    {
      "cell_type": "code",
      "source": [
        "plt.scatter(x,y)\n",
        "plt.xlabel(\"Numero de habitaciones\")\n",
        "plt.ylabel(\"valor medio\")\n",
        "plt.show()"
      ],
      "metadata": {
        "colab": {
          "base_uri": "https://localhost:8080/",
          "height": 279
        },
        "id": "9KGxHM63tBs6",
        "outputId": "d2ccdbc8-ea6d-477c-bc75-24ba8d61f416"
      },
      "execution_count": 15,
      "outputs": [
        {
          "output_type": "display_data",
          "data": {
            "text/plain": [
              "<Figure size 432x288 with 1 Axes>"
            ],
            "image/png": "[encoded data removed]"
          },
          "metadata": {
            "needs_background": "light"
          }
        }
      ]
    },
    {
      "cell_type": "code",
      "source": [
        "from sklearn.model_selection import train_test_split\n",
        "x_train, x_test, y_train, y_test = train_test_split(x,y, test_size=0.2)\n",
        "lr = linear_model.LinearRegression()\n",
        "lr.fit(x_train, y_train)\n",
        "y_pred = lr.predict(x_test)"
      ],
      "metadata": {
        "id": "CpGXzHPVvHSA"
      },
      "execution_count": 11,
      "outputs": []
    },
    {
      "cell_type": "code",
      "source": [
        "plt.scatter(x_test,y_test)\n",
        "plt.plot(x_test, y_pred, color='red',linewidth=3)\n",
        "plt.title('Regresion lineal simple')\n",
        "plt.xlabel('Numero de habitaciones')\n",
        "plt.ylabel('valor medio')\n",
        "plt.show()"
      ],
      "metadata": {
        "colab": {
          "base_uri": "https://localhost:8080/",
          "height": 295
        },
        "id": "UJgIMbilxBuV",
        "outputId": "4e563b9d-adc9-4520-d0b7-934508e48344"
      },
      "execution_count": 14,
      "outputs": [
        {
          "output_type": "display_data",
          "data": {
            "text/plain": [
              "<Figure size 432x288 with 1 Axes>"
            ],
            "image/png": "[encoded data removed]"
          },
          "metadata": {
            "needs_background": "light"
          }
        }
      ]
    },
    {
      "cell_type": "code",
      "source": [
        "print(\"Datos del modelo de regresion lineal simple\")\n",
        "print(\"valor de la pendiente o coeficiente a: \")\n",
        "print(lr.coef_)\n",
        "print(\"valor de la interseccion o coeficiente b: \")\n",
        "print(lr.intercept_)\n",
        "print(\"la ecuacion de el modelo de regresion lineal simple es: \")\n",
        "print('y=',lr.coef_,'x=',lr.intercept_)\n",
        "print(\"Precision del modelo\")\n",
        "print(lr.score(x_train, y_train))"
      ],
      "metadata": {
        "colab": {
          "base_uri": "https://localhost:8080/"
        },
        "id": "2eLtcPbsyk6z",
        "outputId": "d065547b-9fc9-4b93-f03c-bfd944829ced"
      },
      "execution_count": 19,
      "outputs": [
        {
          "output_type": "stream",
          "name": "stdout",
          "text": [
            "Datos del modelo de regresion lineal simple\n",
            "valor de la pendiente o coeficiente a: \n",
            "[9.56052768]\n",
            "valor de la interseccion o coeficiente b: \n",
            "-37.39002745763857\n",
            "la ecuacion de el modelo de regresion lineal simple es: \n",
            "y= [9.56052768] x= -37.39002745763857\n",
            "Precision del modelo\n",
            "0.5080584043369618\n"
          ]
        }
      ]
    }
  ]
}