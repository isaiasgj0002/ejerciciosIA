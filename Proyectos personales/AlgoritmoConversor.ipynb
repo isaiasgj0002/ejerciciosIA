{
  "nbformat": 4,
  "nbformat_minor": 0,
  "metadata": {
    "colab": {
      "provenance": [],
      "authorship_tag": "ABX9TyO9xFGPaWfec27ir4mwHj+h",
      "include_colab_link": true
    },
    "kernelspec": {
      "name": "python3",
      "display_name": "Python 3"
    },
    "language_info": {
      "name": "python"
    }
  },
  "cells": [
    {
      "cell_type": "markdown",
      "metadata": {
        "id": "view-in-github",
        "colab_type": "text"
      },
      "source": [
        "<a href=\"https://colab.research.google.com/github/isaiasgj0002/ejerciciosIA/blob/main/Proyectos%20personales/AlgoritmoConversor.ipynb\" target=\"_parent\"><img src=\"https://colab.research.google.com/assets/colab-badge.svg\" alt=\"Open In Colab\"/></a>"
      ]
    },
    {
      "cell_type": "markdown",
      "source": [
        "Algoritmo que convierte dolares a soles<br>\n",
        "Autor: Isaias Guzmán Jordán<br>\n",
        "Proyecto personal<br>"
      ],
      "metadata": {
        "id": "RqwtkLXC6TV3"
      }
    },
    {
      "cell_type": "code",
      "execution_count": 1,
      "metadata": {
        "id": "QEQ7wbB7377v"
      },
      "outputs": [],
      "source": [
        "import tensorflow as tf\n",
        "import numpy as np"
      ]
    },
    {
      "cell_type": "code",
      "source": [
        "dolares = np.array([1,8,10,22,100,52,31,98,32,43,5],dtype=float)\n",
        "soles = np.array([3.82,30.57,38.22,84.08,382.17,198.73,118.47,374.53,122.30,164.34,19.11],dtype=float)"
      ],
      "metadata": {
        "id": "PIOm73P54FRw"
      },
      "execution_count": 2,
      "outputs": []
    },
    {
      "cell_type": "code",
      "source": [
        "oculta1 = tf.keras.layers.Dense(units=3, input_shape=[1])\n",
        "oculta2 = tf.keras.layers.Dense(units=3)\n",
        "salida = tf.keras.layers.Dense(units=1)\n",
        "modelo = tf.keras.Sequential([oculta1,oculta2,salida])"
      ],
      "metadata": {
        "id": "6yKziyhp4_ew"
      },
      "execution_count": 3,
      "outputs": []
    },
    {
      "cell_type": "code",
      "source": [
        "modelo.compile(\n",
        "    optimizer=tf.keras.optimizers.Adam(0.1),\n",
        "    loss = 'mean_squared_error'\n",
        ")"
      ],
      "metadata": {
        "id": "jGRcL7Im5Ce9"
      },
      "execution_count": 4,
      "outputs": []
    },
    {
      "cell_type": "code",
      "source": [
        "print(\"Iniciando el entrenamiento......!!!\")\n",
        "try:\n",
        "  historial = modelo.fit(dolares, soles, epochs=1000, verbose = False)\n",
        "  print(\"Modelo entrenado con exito\")\n",
        "except:\n",
        "  print(\"Error durante el entrenamiento\")"
      ],
      "metadata": {
        "colab": {
          "base_uri": "https://localhost:8080/"
        },
        "id": "tHQ7cZAJ5HNA",
        "outputId": "28ba90dd-d2d8-45bd-dd5c-7a59d539cbfc"
      },
      "execution_count": 5,
      "outputs": [
        {
          "output_type": "stream",
          "name": "stdout",
          "text": [
            "Iniciando el entrenamiento......!!!\n",
            "Modelo entrenado con exito\n"
          ]
        }
      ]
    },
    {
      "cell_type": "code",
      "source": [
        "import matplotlib.pyplot as plt\n",
        "plt.xlabel(\"# Epoca\")\n",
        "plt.ylabel(\"Magnitud de perdida\")\n",
        "plt.plot(historial.history[\"loss\"])"
      ],
      "metadata": {
        "colab": {
          "base_uri": "https://localhost:8080/",
          "height": 296
        },
        "id": "-jjKA3Tn5Xqn",
        "outputId": "7d59917a-a766-467d-ecb0-d661f39dd467"
      },
      "execution_count": 6,
      "outputs": [
        {
          "output_type": "execute_result",
          "data": {
            "text/plain": [
              "[<matplotlib.lines.Line2D at 0x7f760f450970>]"
            ]
          },
          "metadata": {},
          "execution_count": 6
        },
        {
          "output_type": "display_data",
          "data": {
            "text/plain": [
              "<Figure size 432x288 with 1 Axes>"
            ],
            "image/png": "[encoded data removed]"
          },
          "metadata": {
            "needs_background": "light"
          }
        }
      ]
    },
    {
      "cell_type": "code",
      "source": [
        "print(\"Hagamos una prediccion....\")\n",
        "resultado = modelo.predict([1000])\n",
        "print(\"El resultado es: \"+str(resultado)+\"soles\")"
      ],
      "metadata": {
        "colab": {
          "base_uri": "https://localhost:8080/"
        },
        "id": "bsdJafF95elI",
        "outputId": "1583a2d5-4682-45b8-fdfb-f953b03f97b9"
      },
      "execution_count": 9,
      "outputs": [
        {
          "output_type": "stream",
          "name": "stdout",
          "text": [
            "Hagamos una prediccion....\n",
            "1/1 [==============================] - 0s 32ms/step\n",
            "El resultado es: [[3821.7222]]soles\n"
          ]
        }
      ]
    },
    {
      "cell_type": "code",
      "source": [
        "print(\"Variables internas: \")\n",
        "print(oculta1.get_weights())"
      ],
      "metadata": {
        "colab": {
          "base_uri": "https://localhost:8080/"
        },
        "id": "8VYoAz4-5_MC",
        "outputId": "12121b40-69dd-4cd3-93e6-dd63c7952d3e"
      },
      "execution_count": 8,
      "outputs": [
        {
          "output_type": "stream",
          "name": "stdout",
          "text": [
            "Variables internas: \n",
            "[array([[-1.0264727 , -0.11949908,  1.018175  ]], dtype=float32), array([ 0.06104216,  1.2615486 , -0.08326242], dtype=float32)]\n"
          ]
        }
      ]
    }
  ]
}